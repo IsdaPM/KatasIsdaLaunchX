{
 "cells": [
  {
   "cell_type": "markdown",
   "metadata": {},
   "source": [
    "# Impresión en pantalla print('Hola desde la consola')\n",
    "Viajera Isda en su intento num. dos"
   ]
  },
  {
   "cell_type": "code",
   "execution_count": null,
   "metadata": {},
   "outputs": [],
   "source": [
    "print('camino dormida y como bailando')\n",
    "print['como parada']"
   ]
  },
  {
   "cell_type": "markdown",
   "metadata": {},
   "source": [
    "# mi turno, pruobar el fragmento de código anterior en la parte de 'variables'\n",
    "- hashtag es para comentar :0"
   ]
  },
  {
   "cell_type": "code",
   "execution_count": null,
   "metadata": {},
   "outputs": [],
   "source": [
    "sum = 5+8\n",
    "prodc = sum * 2\n",
    "print(prodc) #tipo int"
   ]
  },
  {
   "cell_type": "code",
   "execution_count": null,
   "metadata": {},
   "outputs": [],
   "source": [
    "# Declaramos la variable\n",
    "variable = \"Attack on Titan\"\n",
    "\n",
    "# Descubrimos su tipo de dato\n",
    "type(variable)"
   ]
  },
  {
   "cell_type": "code",
   "execution_count": null,
   "metadata": {},
   "outputs": [],
   "source": [
    "from datetime import date\n",
    "# se debe poner date. y lo k kiero - poner en una línea sólo today() está mal\n",
    "date.today()\n",
    "print(date.today())"
   ]
  },
  {
   "cell_type": "code",
   "execution_count": null,
   "metadata": {},
   "outputs": [],
   "source": [
    "print(\"Today's date is: \", date.today()) # sirve de las dos formas:), con una coma\n",
    "print(\"Today's date is: \" + str(date.today())) # o convirtiendo el tipo de dato"
   ]
  },
  {
   "cell_type": "code",
   "execution_count": null,
   "metadata": {},
   "outputs": [],
   "source": [
    "print(\"tu anime favorito\")\n",
    "fav = input(\"¿cuál es? \") #dejar un espacio para q la respuesta no aparezca pegada a la pregunta\n",
    "print(fav, \"es un buen anime:)\") #sí funciona, pero aquí tarda mucho, use it in a python file / para que lo ejecute en consola"
   ]
  },
  {
   "cell_type": "code",
   "execution_count": null,
   "metadata": {},
   "outputs": [],
   "source": [
    "print(\"calculate\")\n",
    "num1 = input(\"put a number \")\n",
    "num2 = input(\"put other number \")\n",
    "print(num1 + num2) #lo q hace es poner el numero uno seguido del num2\n",
    "print(int(num1)+int(num2)) #forma correcta, input es string"
   ]
  }
 ],
 "metadata": {
  "interpreter": {
   "hash": "bfb4883d108fc92ac768439090a2e92bb9a1f760a54beeecfd6762b5dcd70fe3"
  },
  "kernelspec": {
   "display_name": "Python 3.10.2 64-bit",
   "language": "python",
   "name": "python3"
  },
  "language_info": {
   "codemirror_mode": {
    "name": "ipython",
    "version": 3
   },
   "file_extension": ".py",
   "mimetype": "text/x-python",
   "name": "python",
   "nbconvert_exporter": "python",
   "pygments_lexer": "ipython3",
   "version": "3.10.2"
  },
  "orig_nbformat": 4
 },
 "nbformat": 4,
 "nbformat_minor": 2
}
