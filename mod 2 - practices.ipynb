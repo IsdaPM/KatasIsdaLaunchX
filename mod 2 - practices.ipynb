{
 "cells": [
  {
   "cell_type": "markdown",
   "metadata": {},
   "source": [
    "# C:\\Users\\Admin\\Documents\\Isda\\Cursos con cer\\launch x\\curso intro python\\katas>\n",
    "\n",
    "para ir al directorio usar cd\n",
    "craer espacio virtual con \n"
   ]
  },
  {
   "cell_type": "code",
   "execution_count": null,
   "metadata": {},
   "outputs": [],
   "source": [
    "C:\\Users\\Admin\\Documents\\Isda\\Cursos con cer\\launch x\\curso intro python\\katas>python -m venv (enter)"
   ]
  },
  {
   "cell_type": "markdown",
   "metadata": {},
   "source": [
    "al ir a las carpetas, verás 3 dentro de ella, 1 - include, 2-lib y 3-Scripts\n",
    "colocar bibliotecas y archivo de codigo en la ultima, en la carpeta scripts\n",
    "\n",
    "### Activar el entorno virtual"
   ]
  },
  {
   "cell_type": "code",
   "execution_count": null,
   "metadata": {},
   "outputs": [],
   "source": [
    "C:\\Users\\Admin\\Documents\\Isda\\Cursos con cer\\launch x\\curso intro python\\katas\\env>Scripts\\activate"
   ]
  },
  {
   "cell_type": "markdown",
   "metadata": {},
   "source": [
    "y se va a ver de la sig manera al darle enter"
   ]
  },
  {
   "cell_type": "code",
   "execution_count": null,
   "metadata": {},
   "outputs": [],
   "source": [
    "(env) C:\\Users\\Admin\\Documents\\Isda\\Cursos con cer\\launch x\\curso intro python\\katas\\env>"
   ]
  },
  {
   "cell_type": "markdown",
   "metadata": {},
   "source": [
    "### Instalar un paquete ej1"
   ]
  },
  {
   "cell_type": "code",
   "execution_count": null,
   "metadata": {},
   "outputs": [],
   "source": [
    "(env) C:\\Users\\Admin\\Documents\\Isda\\Cursos con cer\\launch x\\curso intro python\\katas\\env>pip install numpy\n",
    "Collecting numpy\n",
    "  Using cached numpy-1.22.2-cp310-cp310-win_amd64.whl (14.7 MB)\n",
    "Installing collected packages: numpy\n",
    "Successfully installed numpy-1.22.2\n",
    "WARNING: You are using pip version 21.2.4; however, version 22.0.3 is available.\n",
    "You should consider upgrading via the 'C:\\Users\\Admin\\Documents\\Isda\\Cursos con cer\\launch x\\curso intro python\\katas\\env\\Scripts\\python.exe -m pip install --upgrade pip' command.z"
   ]
  },
  {
   "cell_type": "markdown",
   "metadata": {},
   "source": [
    "### Instalar un paquete ej2"
   ]
  },
  {
   "cell_type": "code",
   "execution_count": null,
   "metadata": {},
   "outputs": [],
   "source": [
    "(env) C:\\Users\\Admin\\Documents\\Isda\\Cursos con cer\\launch x\\curso intro python\\katas\\env>pip install python-dateutil\n",
    "Collecting python-dateutil\n",
    "  Using cached python_dateutil-2.8.2-py2.py3-none-any.whl (247 kB)\n",
    "Collecting six>=1.5\n",
    "  Using cached six-1.16.0-py2.py3-none-any.whl (11 kB)\n",
    "Installing collected packages: six, python-dateutil\n",
    "Successfully installed python-dateutil-2.8.2 six-1.16.0\n",
    "WARNING: You are using pip version 21.2.4; however, version 22.0.3 is available.\n",
    "You should consider upgrading via the 'C:\\Users\\Admin\\Documents\\Isda\\Cursos con cer\\launch x\\curso intro python\\katas\\env\\Scripts\\python.exe -m pip install --upgrade pip' command."
   ]
  },
  {
   "cell_type": "code",
   "execution_count": null,
   "metadata": {},
   "outputs": [],
   "source": [
    "(env) C:\\Users\\Admin\\Documents\\Isda\\Cursos con cer\\launch x\\curso intro python\\katas\\env>pip freeze\n",
    "numpy==1.22.2\n",
    "python-dateutil==2.8.2\n",
    "six==1.16.0"
   ]
  },
  {
   "cell_type": "markdown",
   "metadata": {},
   "source": [
    "## deactivate"
   ]
  },
  {
   "cell_type": "code",
   "execution_count": null,
   "metadata": {},
   "outputs": [],
   "source": [
    "(env) C:\\Users\\Admin\\Documents\\Isda\\Cursos con cer\\launch x\\curso intro python\\katas\\env>Scripts\\deactivate\n",
    "C:\\Users\\Admin\\Documents\\Isda\\Cursos con cer\\launch x\\curso intro python\\katas\\env> # y entonces se quita el (env) del principio:) "
   ]
  }
 ],
 "metadata": {
  "interpreter": {
   "hash": "bfb4883d108fc92ac768439090a2e92bb9a1f760a54beeecfd6762b5dcd70fe3"
  },
  "kernelspec": {
   "display_name": "Python 3.10.2 64-bit",
   "language": "python",
   "name": "python3"
  },
  "language_info": {
   "codemirror_mode": {
    "name": "ipython",
    "version": 3
   },
   "file_extension": ".py",
   "mimetype": "text/x-python",
   "name": "python",
   "nbconvert_exporter": "python",
   "pygments_lexer": "ipython3",
   "version": "3.10.2"
  },
  "orig_nbformat": 4
 },
 "nbformat": 4,
 "nbformat_minor": 2
}
